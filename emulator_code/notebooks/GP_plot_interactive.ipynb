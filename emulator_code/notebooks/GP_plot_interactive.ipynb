{
 "cells": [
  {
   "cell_type": "markdown",
   "metadata": {},
   "source": [
    "## Explore Climate Change Projections with an Emulator\n",
    "\n",
    "This notebook creates a simple interactive widget for exploring emulator predictions. Run the notebook to gain access to the emulator, or if you want to understand the details check the `simple_example` notebook first."
   ]
  },
  {
   "cell_type": "code",
   "execution_count": 1,
   "metadata": {},
   "outputs": [],
   "source": [
    "import sys\n",
    "import os\n",
    "home = os.getenv(\"HOME\")\n",
    "sys.path.insert(0, '../')\n",
    "sys.path.insert(0, '../setup/')\n",
    "sys.path.insert(0, '../plotting/')\n",
    "\n",
    "import GPy\n",
    "import numpy as np\n",
    "import matplotlib.pyplot as plt\n",
    "import matplotlib.colors as colors\n",
    "import sklearn.preprocessing as preprocessing\n",
    "import sklearn.model_selection as model_selection\n",
    "from sklearn.decomposition import PCA\n",
    "import pickle\n",
    "\n",
    "from plotmapfunction import *\n",
    "from read_file import *\n",
    "from AreaWeighting import *\n",
    "from RegionLatitudes import *\n",
    "from DefineRegions import *\n",
    "from conv_MMR_ppm import *\n"
   ]
  },
  {
   "cell_type": "code",
   "execution_count": 2,
   "metadata": {},
   "outputs": [],
   "source": [
    "from __future__ import print_function\n",
    "from ipywidgets import interact, interactive, fixed, interact_manual\n",
    "from IPython.display import display\n",
    "import ipywidgets as widgets\n",
    "from ipywidgets import Layout"
   ]
  },
  {
   "cell_type": "code",
   "execution_count": 3,
   "metadata": {},
   "outputs": [],
   "source": [
    "import warnings\n",
    "warnings.filterwarnings('ignore')"
   ]
  },
  {
   "cell_type": "code",
   "execution_count": 4,
   "metadata": {},
   "outputs": [],
   "source": [
    "%matplotlib inline"
   ]
  },
  {
   "cell_type": "code",
   "execution_count": 5,
   "metadata": {},
   "outputs": [
    {
     "name": "stdout",
     "output_type": "stream",
     "text": [
      "Getting inputs and outputs\n",
      "Opening ../../emulator_files/AllTemps1-86.nc\n",
      "Getting inputs and outputs\n",
      "Opening ../../emulator_files/TestTemps1-18.nc\n"
     ]
    }
   ],
   "source": [
    "### GET FILES ####\n",
    "# Open datasets\n",
    "X, Y, Xtest, Ytest, latitude, longitude = get_train_test()\n",
    "\n",
    "\n",
    "nlat, nlon = len(latitude), len(longitude)\n",
    "p = X.shape[1]"
   ]
  },
  {
   "cell_type": "code",
   "execution_count": 6,
   "metadata": {},
   "outputs": [
    {
     "name": "stdout",
     "output_type": "stream",
     "text": [
      "(86, 27648)\n"
     ]
    }
   ],
   "source": [
    "## Reshape arrays: flatten output along lon/lat\n",
    "Xfull, Yfull = X, Y  \n",
    "Y = Yfull.reshape((Yfull.shape[0], nlon*nlat))\n",
    "print(Y.shape)\n",
    "\n",
    "\n",
    "# Scale X and Y to zero mean, unit variance\n",
    "scalerX = preprocessing.StandardScaler()\n",
    "scalerX.fit(X)\n",
    "X = scalerX.transform(X)\n",
    "Xtest = scalerX.transform(Xtest)\n",
    "\n",
    "scalerY = preprocessing.StandardScaler()\n",
    "scalerY.fit(Y)\n",
    "Y = scalerY.transform(Y)\n"
   ]
  },
  {
   "cell_type": "code",
   "execution_count": 7,
   "metadata": {},
   "outputs": [
    {
     "name": "stdout",
     "output_type": "stream",
     "text": [
      "kernel used:   \u001b[1msum.            \u001b[0;0m  |  value  |  constraints  |  priors\n",
      "  \u001b[1mrbf.variance    \u001b[0;0m  |    1.0  |      +ve      |        \n",
      "  \u001b[1mrbf.lengthscale \u001b[0;0m  |   (9,)  |      +ve      |        \n",
      "  \u001b[1mlinear.variances\u001b[0;0m  |   (9,)  |      +ve      |        \n",
      "Model: \n",
      "Name : GP regression\n",
      "Objective : 3254156.3817916904\n",
      "Number of Parameters : 20\n",
      "Number of Optimization Parameters : 19\n",
      "Updates : True\n",
      "Parameters:\n",
      "  \u001b[1mGP_regression.         \u001b[0;0m  |  value  |  constraints  |  priors\n",
      "  \u001b[1msum.rbf.variance       \u001b[0;0m  |    1.0  |      +ve      |        \n",
      "  \u001b[1msum.rbf.lengthscale    \u001b[0;0m  |   (9,)  |      +ve      |        \n",
      "  \u001b[1msum.linear.variances   \u001b[0;0m  |   (9,)  |      +ve      |        \n",
      "  \u001b[1mGaussian_noise.variance\u001b[0;0m  |   0.41  |   +ve fixed   |        \n",
      "Optimised model: \n",
      "Name : GP regression\n",
      "Objective : 2093943.8731012486\n",
      "Number of Parameters : 20\n",
      "Number of Optimization Parameters : 19\n",
      "Updates : True\n",
      "Parameters:\n",
      "  \u001b[1mGP_regression.         \u001b[0;0m  |                  value  |  constraints  |  priors\n",
      "  \u001b[1msum.rbf.variance       \u001b[0;0m  |  9.873874988025384e-09  |      +ve      |        \n",
      "  \u001b[1msum.rbf.lengthscale    \u001b[0;0m  |                   (9,)  |      +ve      |        \n",
      "  \u001b[1msum.linear.variances   \u001b[0;0m  |                   (9,)  |      +ve      |        \n",
      "  \u001b[1mGaussian_noise.variance\u001b[0;0m  |                   0.41  |   +ve fixed   |        \n"
     ]
    }
   ],
   "source": [
    "## Kernel\n",
    "kern = GPy.kern.RBF(p, ARD=True) + GPy.kern.Linear(p, ARD=True)\n",
    "\n",
    "print(\"kernel used: {}\".format(kern))\n",
    "\n",
    "m = GPy.models.GPRegression(X, Y, kern)\n",
    "m.likelihood.variance.fix(0.41)\n",
    "print(f\"Model: {m}\")\n",
    "\n",
    "m.optimize()\n",
    "\n",
    "print(f\"Optimised model: {m}\")"
   ]
  },
  {
   "cell_type": "code",
   "execution_count": 8,
   "metadata": {},
   "outputs": [],
   "source": [
    "X_CO2     = 410       # ppm between 202 and 1088  (today = 410)\n",
    "X_CH4     = 1800      # ppb between 247 and 3238  (today = 1850)\n",
    "X_SO4_Eur = 1.0       # fraction between 0 and 10 (5)\n",
    "X_SO4_NAm = 1.0       # fraction between 0 and 6  (3)\n",
    "X_SO4_EAs = 1.0       # fraction between 0 and 4  (2)\n",
    "X_SO4_SAs = 1.0       # fraction between 0 and 6  (3)\n",
    "X_SO4_SAm = 1.0       # fraction between 0 and 6  (3)\n",
    "X_SO4_Afr = 1.0       # fraction between 0 and 14 (7)\n",
    "X_OCBC_Tr = 1.0       # fraction between 0 and 4  (2)\n"
   ]
  },
  {
   "cell_type": "code",
   "execution_count": 9,
   "metadata": {},
   "outputs": [
    {
     "data": {
      "text/plain": [
       "array([6.22968023e-04, 9.96965240e-07, 1.00000000e+00, 1.00000000e+00,\n",
       "       1.00000000e+00, 1.00000000e+00, 1.00000000e+00, 1.00000000e+00,\n",
       "       1.00000000e+00])"
      ]
     },
     "execution_count": 9,
     "metadata": {},
     "output_type": "execute_result"
    }
   ],
   "source": [
    "X_new = np.array([ CO2_ppm_MMR(X_CO2), CH4_ppb_MMR(X_CH4), X_SO4_Eur, X_SO4_NAm, \n",
    "                   X_SO4_EAs, X_SO4_SAs, X_SO4_SAm, X_SO4_Afr, X_OCBC_Tr])\n",
    "X_new"
   ]
  },
  {
   "cell_type": "code",
   "execution_count": 10,
   "metadata": {},
   "outputs": [],
   "source": [
    "def get_map(co2_widget, ch4_widget, so2_eur_widget, so2_nam_widget, so2_eas_widget, \n",
    "              so2_sas_widget, so2_sam_widget, so2_afr_widget, ocbc_tr_widget ):\n",
    "    print(\"CO2:\",co2_widget, \"ppm. CH4:\", ch4_widget, \" ppb. \\nSO2_EUR:\", so2_eur_widget, \"x.  SO2_NAm:\", so2_nam_widget, \n",
    "          \"x.  SO2_EAs:\", so2_eas_widget, \"x.  SO2_SAs:\", so2_sas_widget, \"x. SO2_SAm:\", so2_sam_widget,\n",
    "          \"x.  SO2_Afr:\",  so2_afr_widget, \"x.  OCBC_Tro:\", ocbc_tr_widget, \"x. \")\n",
    "    X_new = np.array([ CO2_ppm_MMR(co2_widget), CH4_ppb_MMR(ch4_widget), so2_eur_widget, so2_nam_widget, so2_eas_widget, \n",
    "                      so2_sas_widget, so2_sam_widget, so2_afr_widget, ocbc_tr_widget ])\n",
    "    X_new_scaled = scalerX.transform(X_new.reshape(1, -1))\n",
    "    ypred, var = m.predict_noiseless(X_new_scaled)\n",
    "    ypred = scalerY.inverse_transform(ypred)\n",
    "    levels = np.arange(-2., 2.01, 0.1)\n",
    "    ypredmap = ypred.reshape((nlat, nlon))\n",
    "    plotmap(longitude, latitude, ypredmap, levels=levels, variable_label='Temperature Response ($\\degree$C)') \n",
    "    std = np.sqrt((scalerY.var_)*(var))\n",
    "    std = std[0].reshape((nlat, nlon))\n",
    "    print(\"Estimated global mean response:{} deg C\".format(ypredmap.mean()))\n",
    "    print(\"Estimated global mean GP error:{} deg C\".format(std.mean()))\n",
    "    return ypredmap\n",
    "    "
   ]
  },
  {
   "cell_type": "code",
   "execution_count": 11,
   "metadata": {},
   "outputs": [],
   "source": [
    "Widget = interactive(get_map, {'manual': True},\n",
    "                co2_widget=widgets.IntSlider(min=200, max=834, step=10, value=410, description='CO2 (ppm)', layout=Layout(width='50%'), style = {'description_width': '150px'}),\n",
    "                ch4_widget=widgets.IntSlider(min=250, max=3200, step=10, value=1850, description='CH4 (ppb)', layout=Layout(width='50%'), style = {'description_width': '150px'}),\n",
    "                so2_eur_widget=widgets.FloatSlider(min=0, max=5, step=0.1, value=1, description='SO2 Europe (frac)', layout=Layout(width='50%'), style = {'description_width': '150px'}),\n",
    "                so2_nam_widget=widgets.FloatSlider(min=0, max=3, step=0.1, value=1, description='SO2 N. America (frac)', layout=Layout(width='50%'), style = {'description_width': '150px'}),\n",
    "                so2_eas_widget=widgets.FloatSlider(min=0, max=2, step=0.1, value=1, description='SO2 E. Asia (frac)', layout=Layout(width='50%'), style = {'description_width': '150px'}),\n",
    "                so2_sas_widget=widgets.FloatSlider(min=0, max=3, step=0.1, value=1, description='SO2 S. Asia (frac)', layout=Layout(width='50%'), style = {'description_width': '150px'}),\n",
    "                so2_sam_widget=widgets.FloatSlider(min=0, max=3, step=0.1, value=1, description='SO2 S. America (frac)', layout=Layout(width='50%'), style = {'description_width': '150px'}),\n",
    "                so2_afr_widget=widgets.FloatSlider(min=0, max=7, step=0.1, value=1, description='SO2 Africa (frac)', layout=Layout(width='50%'), style = {'description_width': '150px'}),\n",
    "                ocbc_tr_widget=widgets.FloatSlider(min=0, max=2, step=0.1, value=1, description='OC/BC Tropics (frac)', layout=Layout(width='50%'), style = {'description_width': '150px'}));"
   ]
  },
  {
   "cell_type": "code",
   "execution_count": 12,
   "metadata": {},
   "outputs": [
    {
     "data": {
      "application/vnd.jupyter.widget-view+json": {
       "model_id": "851a0e445ee84e8391363688192559df",
       "version_major": 2,
       "version_minor": 0
      },
      "text/plain": [
       "interactive(children=(IntSlider(value=410, description='CO2 (ppm)', layout=Layout(width='50%'), max=834, min=2…"
      ]
     },
     "metadata": {},
     "output_type": "display_data"
    }
   ],
   "source": [
    "display(Widget);"
   ]
  },
  {
   "cell_type": "code",
   "execution_count": null,
   "metadata": {},
   "outputs": [],
   "source": []
  },
  {
   "cell_type": "code",
   "execution_count": null,
   "metadata": {},
   "outputs": [],
   "source": []
  }
 ],
 "metadata": {
  "kernelspec": {
   "display_name": "Python 3",
   "language": "python",
   "name": "python3"
  },
  "language_info": {
   "codemirror_mode": {
    "name": "ipython",
    "version": 3
   },
   "file_extension": ".py",
   "mimetype": "text/x-python",
   "name": "python",
   "nbconvert_exporter": "python",
   "pygments_lexer": "ipython3",
   "version": "3.7.9"
  }
 },
 "nbformat": 4,
 "nbformat_minor": 4
}
